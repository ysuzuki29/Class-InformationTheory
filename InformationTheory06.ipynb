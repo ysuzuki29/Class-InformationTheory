{
 "cells": [
  {
   "cell_type": "markdown",
   "metadata": {},
   "source": [
    "### エントロピー"
   ]
  },
  {
   "cell_type": "code",
   "execution_count": 3,
   "metadata": {},
   "outputs": [
    {
     "data": {
      "text/plain": [
       "2.5146585782665962"
      ]
     },
     "execution_count": 3,
     "metadata": {},
     "output_type": "execute_result"
    }
   ],
   "source": [
    "import math\n",
    "-(0.17*math.log2(0.17)+0.2*math.log2(0.2)+0.33*math.log2(0.33)+0.12*math.log2(0.12)+0.06*math.log2(0.06)+0.08*math.log2(0.08)+0.04*math.log2(0.04))"
   ]
  },
  {
   "cell_type": "markdown",
   "metadata": {},
   "source": [
    "### ハフマンコード ###"
   ]
  },
  {
   "cell_type": "code",
   "execution_count": 4,
   "metadata": {},
   "outputs": [
    {
     "data": {
      "text/plain": [
       "2.5700000000000003"
      ]
     },
     "execution_count": 4,
     "metadata": {},
     "output_type": "execute_result"
    }
   ],
   "source": [
    "0.17*3+0.20*2+0.33*2+0.12*3+0.06*4+0.08*3+0.04*4"
   ]
  },
  {
   "cell_type": "markdown",
   "metadata": {},
   "source": [
    "### 英語のエントロピー"
   ]
  },
  {
   "cell_type": "code",
   "execution_count": 9,
   "metadata": {},
   "outputs": [
    {
     "name": "stdout",
     "output_type": "stream",
     "text": [
      "4.700439718141092\n",
      "4.700439718141092\n"
     ]
    }
   ],
   "source": [
    "# アルファベットの各文字が等確率で出現するなら\n",
    "# numpy不使用\n",
    "import math\n",
    "x=1/26\n",
    "sum=0\n",
    "for i in range(1,27):\n",
    "    sum+=-x*math.log2(x)\n",
    "print(sum)\n",
    "\n",
    "# numpy使用\n",
    "x=np.full(26, 1/26)\n",
    "y=np.sum(-x*np.log2(x))\n",
    "print(y)"
   ]
  },
  {
   "cell_type": "markdown",
   "metadata": {},
   "source": [
    "### エントロピーの例１"
   ]
  },
  {
   "cell_type": "code",
   "execution_count": 10,
   "metadata": {},
   "outputs": [
    {
     "data": {
      "text/plain": [
       "1.0"
      ]
     },
     "execution_count": 10,
     "metadata": {},
     "output_type": "execute_result"
    }
   ],
   "source": [
    "import math\n",
    "-(1/2*math.log2(1/2)+1/2*math.log2(1/2))"
   ]
  },
  {
   "cell_type": "markdown",
   "metadata": {},
   "source": [
    "### エントロピーの例２"
   ]
  },
  {
   "cell_type": "code",
   "execution_count": 11,
   "metadata": {},
   "outputs": [
    {
     "name": "stdout",
     "output_type": "stream",
     "text": [
      "2.584962500721156\n"
     ]
    }
   ],
   "source": [
    "import numpy\n",
    "x=np.full(6,1/6)\n",
    "y=np.sum(-x*np.log2(x))\n",
    "print(y)"
   ]
  },
  {
   "cell_type": "markdown",
   "metadata": {},
   "source": [
    "### エントロピーの例２'"
   ]
  },
  {
   "cell_type": "code",
   "execution_count": 15,
   "metadata": {},
   "outputs": [
    {
     "name": "stdout",
     "output_type": "stream",
     "text": [
      "2.251629167387823\n"
     ]
    }
   ],
   "source": [
    "import numpy\n",
    "dice=[1/3, 1/12, 1/12, 1/12, 1/12, 1/3]\n",
    "x=np.array(dice)\n",
    "y=np.sum(-x*np.log2(x))\n",
    "print(y)"
   ]
  },
  {
   "cell_type": "markdown",
   "metadata": {},
   "source": [
    "### エントロピーの例２''"
   ]
  },
  {
   "cell_type": "code",
   "execution_count": 25,
   "metadata": {},
   "outputs": [
    {
     "name": "stdout",
     "output_type": "stream",
     "text": [
      "5.93333105324156e-14\n"
     ]
    }
   ],
   "source": [
    "import sys \n",
    "import numpy\n",
    "epsilon=sys.float_info.epsilon # 非常に小さい値\n",
    "dice=[1-5*epsilon, epsilon, epsilon, epsilon, epsilon, epsilon]\n",
    "x=np.array(dice)\n",
    "y=np.sum(-x*np.log2(x))\n",
    "print(y)"
   ]
  },
  {
   "cell_type": "markdown",
   "metadata": {},
   "source": [
    "### 2元エントロピー関数"
   ]
  },
  {
   "cell_type": "code",
   "execution_count": 1,
   "metadata": {},
   "outputs": [
    {
     "data": {
      "image/png": "[encoded data removed]",
      "text/plain": [
       "<Figure size 432x288 with 1 Axes>"
      ]
     },
     "metadata": {
      "needs_background": "light"
     },
     "output_type": "display_data"
    }
   ],
   "source": [
    "import matplotlib.pyplot as plt\n",
    "import numpy as np\n",
    "\n",
    "x=np.linspace(0.01,0.99,98)\n",
    "y=np.array(-x*np.log2(x)-(1-x)*np.log2(1-x))\n",
    "plt.plot(x,y)\n",
    "plt.show()"
   ]
  },
  {
   "cell_type": "markdown",
   "metadata": {},
   "source": [
    "xはコインの表が出る確率と考える．(1-x)は裏がでる確率． エントロピーが最大になるのはx=(1-x)=0.5の時（公平なコイン）で1bit． いかさまコイン（必ず表がでる）の場合はエントロピーは0bitになる"
   ]
  }
 ],
 "metadata": {
  "kernelspec": {
   "display_name": "Python 3",
   "language": "python",
   "name": "python3"
  },
  "language_info": {
   "codemirror_mode": {
    "name": "ipython",
    "version": 3
   },
   "file_extension": ".py",
   "mimetype": "text/x-python",
   "name": "python",
   "nbconvert_exporter": "python",
   "pygments_lexer": "ipython3",
   "version": "3.7.6"
  }
 },
 "nbformat": 4,
 "nbformat_minor": 4
}
