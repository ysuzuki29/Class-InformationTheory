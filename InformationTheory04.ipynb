{
 "cells": [
  {
   "cell_type": "markdown",
   "metadata": {},
   "source": [
    "## FE H26-1 AM02 ##"
   ]
  },
  {
   "cell_type": "code",
   "execution_count": 3,
   "metadata": {},
   "outputs": [
    {
     "name": "stdout",
     "output_type": "stream",
     "text": [
      "ans: 0b101010\n",
      "ア : 0b1010\n",
      "イ : 0b10101111\n",
      "ウ : 0b101010\n",
      "エ : 0b1010101\n"
     ]
    }
   ],
   "source": [
    "x=0b10101010\n",
    "y=0b00101010\n",
    "print(\"ans:\", bin(y))\n",
    "print(\"ア :\", bin(x & 0x0F) )\n",
    "print(\"イ :\", bin(x | 0x0F) )\n",
    "print(\"ウ :\", bin(x & 0x7F) )\n",
    "print(\"エ :\", bin(x ^ 0xFF) )"
   ]
  },
  {
   "cell_type": "markdown",
   "metadata": {},
   "source": [
    "## FE H28-1 AM01 ##"
   ]
  },
  {
   "cell_type": "code",
   "execution_count": 4,
   "metadata": {},
   "outputs": [
    {
     "name": "stdout",
     "output_type": "stream",
     "text": [
      "x: 12\n",
      "y: 48\n",
      "z: 60\n"
     ]
    }
   ],
   "source": [
    "x=0b00001100\n",
    "y=x << 2\n",
    "z=y+x\n",
    "print(\"x:\", x)\n",
    "print(\"y:\", y)\n",
    "print(\"z:\", z)"
   ]
  },
  {
   "cell_type": "markdown",
   "metadata": {},
   "source": [
    "## 3.2 例１ ##"
   ]
  },
  {
   "cell_type": "code",
   "execution_count": 5,
   "metadata": {},
   "outputs": [
    {
     "data": {
      "text/plain": [
       "0.6666666666666666"
      ]
     },
     "execution_count": 5,
     "metadata": {},
     "output_type": "execute_result"
    }
   ],
   "source": [
    "(2/6)/(3/6)"
   ]
  },
  {
   "cell_type": "markdown",
   "metadata": {},
   "source": [
    "## 3.2 例２ ##"
   ]
  },
  {
   "cell_type": "code",
   "execution_count": 6,
   "metadata": {},
   "outputs": [
    {
     "data": {
      "text/plain": [
       "0.0"
      ]
     },
     "execution_count": 6,
     "metadata": {},
     "output_type": "execute_result"
    }
   ],
   "source": [
    "((0/9)*(1/10))/(1/10)"
   ]
  },
  {
   "cell_type": "markdown",
   "metadata": {},
   "source": [
    "## 3.4 すごろくで１回に進めるコマ数 ##"
   ]
  },
  {
   "cell_type": "code",
   "execution_count": 7,
   "metadata": {},
   "outputs": [
    {
     "data": {
      "text/plain": [
       "3.5"
      ]
     },
     "execution_count": 7,
     "metadata": {},
     "output_type": "execute_result"
    }
   ],
   "source": [
    "1*1/6+2*1/6+3*1/6+4*1/6+5*1/6+6*1/6"
   ]
  },
  {
   "cell_type": "markdown",
   "metadata": {},
   "source": [
    "## 分散の例\n",
    "1:1, 2:0, 3:3, 4:0, 5:5, 6:0"
   ]
  },
  {
   "cell_type": "code",
   "execution_count": 8,
   "metadata": {},
   "outputs": [
    {
     "data": {
      "text/plain": [
       "1.5"
      ]
     },
     "execution_count": 8,
     "metadata": {},
     "output_type": "execute_result"
    }
   ],
   "source": [
    "# 平均\n",
    "1*1/6+3*1/6+5*1/6+0*3/6"
   ]
  },
  {
   "cell_type": "code",
   "execution_count": 9,
   "metadata": {},
   "outputs": [
    {
     "data": {
      "text/plain": [
       "3.583333333333333"
      ]
     },
     "execution_count": 9,
     "metadata": {},
     "output_type": "execute_result"
    }
   ],
   "source": [
    "# 分散1\n",
    "(1-3/2)**2*1/6+(3-3/2)**2*1/6+(5-3/2)**2*1/6+(0-3/2)**2*3/6"
   ]
  },
  {
   "cell_type": "code",
   "execution_count": 10,
   "metadata": {},
   "outputs": [
    {
     "data": {
      "text/plain": [
       "3.583333333333334"
      ]
     },
     "execution_count": 10,
     "metadata": {},
     "output_type": "execute_result"
    }
   ],
   "source": [
    "# 分散２\n",
    "ex=1*1/6+3*1/6+5*1/6+0*3/6\n",
    "1**2*1/6+3**2*1/6+5**2*1/6+0**2*3/6-ex**2"
   ]
  },
  {
   "cell_type": "markdown",
   "metadata": {},
   "source": [
    "## チェビシェフの不等式 ##"
   ]
  },
  {
   "cell_type": "code",
   "execution_count": 14,
   "metadata": {
    "scrolled": true
   },
   "outputs": [
    {
     "name": "stdout",
     "output_type": "stream",
     "text": [
      "E[X]= 3.5\n",
      "a= 1\n",
      "P(x>=a)= 0.9999999999999999\n",
      "E[X]/a= 3.5\n",
      "a= 2\n",
      "P(x>=a)= 0.8333333333333333\n",
      "E[X]/a= 1.75\n",
      "a= 3\n",
      "P(x>=a)= 0.6666666666666666\n",
      "E[X]/a= 1.1666666666666667\n",
      "a= 4\n",
      "P(x>=a)= 0.5\n",
      "E[X]/a= 0.875\n",
      "a= 5\n",
      "P(x>=a)= 0.3333333333333333\n",
      "E[X]/a= 0.7\n",
      "a= 6\n",
      "P(x>=a)= 0.16666666666666666\n",
      "E[X]/a= 0.5833333333333334\n"
     ]
    },
    {
     "data": {
      "image/png": "[encoded data removed]",
      "text/plain": [
       "<Figure size 432x288 with 1 Axes>"
      ]
     },
     "metadata": {
      "needs_background": "light"
     },
     "output_type": "display_data"
    }
   ],
   "source": [
    "# x:サイコロの目と同じ数だけ進むすごろく\n",
    "%matplotlib inline\n",
    "import matplotlib.pyplot as plt\n",
    "\n",
    "ex= 1/6*1+1/6*2+1/6*3+1/6*4+1/6*5+1/6*6\n",
    "print(\"E[X]=\", ex)\n",
    "i=[0,1,2,3,4,5,6]\n",
    "px=[0, 0, 0, 0, 0, 0, 0]\n",
    "expa=[0, 0, 0, 0, 0, 0, 0]\n",
    "#\n",
    "a = 1\n",
    "print(\"a=\", a)\n",
    "px[a]=1/6+1/6+1/6+1/6+1/6+1/6\n",
    "expa[a]=ex/a\n",
    "print(\"P(x>=a)=\", px[a])\n",
    "print(\"E[X]/a=\", expa[a])\n",
    "\n",
    "a = 2\n",
    "print(\"a=\", a)\n",
    "px[a]=1/6+1/6+1/6+1/6+1/6\n",
    "expa[a]=ex/a\n",
    "print(\"P(x>=a)=\", px[a])\n",
    "print(\"E[X]/a=\", expa[a])\n",
    "\n",
    "a = 3\n",
    "print(\"a=\", a)\n",
    "px[a]=1/6+1/6+1/6+1/6\n",
    "expa[a]=ex/a\n",
    "print(\"P(x>=a)=\", px[a])\n",
    "print(\"E[X]/a=\", expa[a])\n",
    "\n",
    "a = 4\n",
    "print(\"a=\", a)\n",
    "px[a]=1/6+1/6+1/6\n",
    "expa[a]=ex/a\n",
    "print(\"P(x>=a)=\", px[a])\n",
    "print(\"E[X]/a=\", expa[a])\n",
    "\n",
    "a = 5\n",
    "print(\"a=\", a)\n",
    "px[a]=1/6+1/6\n",
    "expa[a]=ex/a\n",
    "print(\"P(x>=a)=\", px[a])\n",
    "print(\"E[X]/a=\", expa[a])\n",
    "\n",
    "a = 6\n",
    "print(\"a=\", a)\n",
    "px[a]=1/6\n",
    "expa[a]=ex/a\n",
    "print(\"P(x>=a)=\", px[a])\n",
    "print(\"E[X]/a=\", expa[a])\n",
    "\n",
    "plt.xlim(1,6)\n",
    "plt.plot(i,px, label=\"P(x>=a)\")\n",
    "plt.plot(i,expa, label=\"E[X]/a\")\n",
    "plt.xlabel(\"dice\")\n",
    "plt.legend()\n",
    "#plt.show()\n",
    "plt.savefig(\"chebyshev.png\")"
   ]
  },
  {
   "cell_type": "code",
   "execution_count": 15,
   "metadata": {},
   "outputs": [
    {
     "name": "stdout",
     "output_type": "stream",
     "text": [
      "E[X]= 1.5\n",
      "a= 1\n",
      "P(x>=a)= 0.5\n",
      "E[X]/a= 1.5\n",
      "a= 2\n",
      "P(x>=a)= 0.3333333333333333\n",
      "E[X]/a= 0.75\n",
      "a= 3\n",
      "P(x>=a)= 0.3333333333333333\n",
      "E[X]/a= 0.5\n",
      "a= 4\n",
      "P(x>=a)= 0.16666666666666666\n",
      "E[X]/a= 0.375\n",
      "a= 5\n",
      "P(x>=a)= 0.16666666666666666\n",
      "E[X]/a= 0.3\n",
      "a= 6\n",
      "P(x>=a)= 0\n",
      "E[X]/a= 0.25\n"
     ]
    },
    {
     "data": {
      "image/png": "[encoded data removed]",
      "text/plain": [
       "<Figure size 432x288 with 1 Axes>"
      ]
     },
     "metadata": {
      "needs_background": "light"
     },
     "output_type": "display_data"
    }
   ],
   "source": [
    "# x:奇数の目が出たときだけサイコロの目と同じ数だけ進むすごろく\n",
    "%matplotlib inline\n",
    "import matplotlib.pyplot as plt\n",
    "\n",
    "ex= 1/6*1+1/6*0+1/6*3+1/6*0+1/6*5+1/6*0\n",
    "print(\"E[X]=\", ex)\n",
    "i=[0,1,2,3,4,5,6]\n",
    "px=[0, 0, 0, 0, 0, 0, 0]\n",
    "expa=[0, 0, 0, 0, 0, 0, 0]\n",
    "#\n",
    "a = 1\n",
    "print(\"a=\", a)\n",
    "px[a]=1/6+1/6+1/6\n",
    "expa[a]=ex/a\n",
    "print(\"P(x>=a)=\", px[a])\n",
    "print(\"E[X]/a=\", expa[a])\n",
    "\n",
    "a = 2\n",
    "print(\"a=\", a)\n",
    "px[a]=1/6+1/6\n",
    "expa[a]=ex/a\n",
    "print(\"P(x>=a)=\", px[a])\n",
    "print(\"E[X]/a=\", expa[a])\n",
    "\n",
    "a = 3\n",
    "print(\"a=\", a)\n",
    "px[a]=1/6+1/6\n",
    "expa[a]=ex/a\n",
    "print(\"P(x>=a)=\", px[a])\n",
    "print(\"E[X]/a=\", expa[a])\n",
    "\n",
    "a = 4\n",
    "print(\"a=\", a)\n",
    "px[a]=1/6\n",
    "expa[a]=ex/a\n",
    "print(\"P(x>=a)=\", px[a])\n",
    "print(\"E[X]/a=\", expa[a])\n",
    "\n",
    "a = 5\n",
    "print(\"a=\", a)\n",
    "px[a]=1/6\n",
    "expa[a]=ex/a\n",
    "print(\"P(x>=a)=\", px[a])\n",
    "print(\"E[X]/a=\", expa[a])\n",
    "\n",
    "a = 6\n",
    "print(\"a=\", a)\n",
    "px[a]=0\n",
    "expa[a]=ex/a\n",
    "print(\"P(x>=a)=\", px[a])\n",
    "print(\"E[X]/a=\", expa[a])\n",
    "\n",
    "plt.xlim(1,6)\n",
    "plt.plot(i,px)\n",
    "plt.plot(i,expa)\n",
    "plt.plot(i,px, label=\"P(x>=a)\")\n",
    "plt.plot(i,expa, label=\"E[X]/a\")\n",
    "plt.xlabel(\"dice\")\n",
    "plt.legend()\n",
    "#plt.show()\n",
    "plt.savefig(\"chebyshevodd.png\")"
   ]
  },
  {
   "cell_type": "code",
   "execution_count": null,
   "metadata": {},
   "outputs": [],
   "source": []
  }
 ],
 "metadata": {
  "kernelspec": {
   "display_name": "Python 3",
   "language": "python",
   "name": "python3"
  },
  "language_info": {
   "codemirror_mode": {
    "name": "ipython",
    "version": 3
   },
   "file_extension": ".py",
   "mimetype": "text/x-python",
   "name": "python",
   "nbconvert_exporter": "python",
   "pygments_lexer": "ipython3",
   "version": "3.7.6"
  }
 },
 "nbformat": 4,
 "nbformat_minor": 4
}
