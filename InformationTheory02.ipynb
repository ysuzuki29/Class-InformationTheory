{
 "cells": [
  {
   "cell_type": "markdown",
   "metadata": {},
   "source": [
    "## 集合 ##"
   ]
  },
  {
   "cell_type": "code",
   "execution_count": 26,
   "metadata": {},
   "outputs": [
    {
     "name": "stdout",
     "output_type": "stream",
     "text": [
      "空集合\n",
      "{}\n",
      "set()\n",
      "set()\n",
      "和集合\n",
      "{1, 2, 3, 4, 5, 6}\n",
      "{1, 2, 3, 4, 5, 6}\n",
      "積集合\n",
      "{4, 6}\n",
      "{4, 6}\n",
      "補集合，差集合\n",
      "{1, 3, 5}\n",
      "{2, 4, 6}\n"
     ]
    }
   ],
   "source": [
    "# set \n",
    "empty_s = {}\n",
    "dice_s = {1, 2, 3, 4, 5, 6}\n",
    "even_s = {2, 4, 6}\n",
    "odd_s ={1, 3, 5}\n",
    "high_s ={4, 5, 6}\n",
    "low_s = {1, 2, 3}\n",
    "\n",
    "# 空集合\n",
    "print(\"空集合\")\n",
    "print(empty_s)\n",
    "print(even_s.intersection(odd_s))\n",
    "print(even_s & odd_s)\n",
    "\n",
    "# 和集合\n",
    "print(\"和集合\")\n",
    "print(even_s.union(odd_s))\n",
    "print(even_s | odd_s)\n",
    "\n",
    "# 積集合\n",
    "print(\"積集合\")\n",
    "print(even_s.intersection(high_s))\n",
    "print(even_s & high_s)\n",
    "\n",
    "# 補集合，差集合\n",
    "print(\"補集合，差集合\")\n",
    "print(dice_s.difference(even_s))\n",
    "print(dice_s.difference(odd_s))\n",
    "\n"
   ]
  },
  {
   "cell_type": "markdown",
   "metadata": {},
   "source": [
    "## 基数変換 ##"
   ]
  },
  {
   "cell_type": "code",
   "execution_count": 33,
   "metadata": {},
   "outputs": [
    {
     "name": "stdout",
     "output_type": "stream",
     "text": [
      "10進数:43 16進数:0x2b\n"
     ]
    }
   ],
   "source": [
    "a=0b00101011\n",
    "print(\"10進数:%d 16進数:%s\" % (a, hex(a)))"
   ]
  },
  {
   "cell_type": "code",
   "execution_count": 30,
   "metadata": {},
   "outputs": [
    {
     "name": "stdout",
     "output_type": "stream",
     "text": [
      "10進数:79 16進数:0x4f\n"
     ]
    }
   ],
   "source": [
    "a=0b01001111\n",
    "print(\"10進数:%d 16進数:%s\" % (a, hex(a)))"
   ]
  },
  {
   "cell_type": "code",
   "execution_count": 32,
   "metadata": {
    "scrolled": true
   },
   "outputs": [
    {
     "name": "stdout",
     "output_type": "stream",
     "text": [
      "10進数:578 16進数:0x242\n"
     ]
    }
   ],
   "source": [
    "a=0b1001000010\n",
    "print(\"10進数:%d 16進数:%s\" % (a, hex(a)))"
   ]
  },
  {
   "cell_type": "code",
   "execution_count": 47,
   "metadata": {
    "scrolled": true
   },
   "outputs": [
    {
     "name": "stdout",
     "output_type": "stream",
     "text": [
      "10進数:23 16進数:0x17 2進数:0b10111\n"
     ]
    }
   ],
   "source": [
    "a=23\n",
    "print(\"10進数:%d 16進数:%s 2進数:%s\" % (a, hex(a), bin(a & 0xFF)))"
   ]
  },
  {
   "cell_type": "code",
   "execution_count": 46,
   "metadata": {},
   "outputs": [
    {
     "name": "stdout",
     "output_type": "stream",
     "text": [
      "10進数:-23 16進数:b'\\xff\\xe9'\n"
     ]
    }
   ],
   "source": [
    "a=-23\n",
    "print(\"10進数:%d 16進数:%s\" % (a, a.to_bytes(2, byteorder='big', signed=True)))"
   ]
  },
  {
   "cell_type": "code",
   "execution_count": 69,
   "metadata": {},
   "outputs": [
    {
     "name": "stdout",
     "output_type": "stream",
     "text": [
      "10進数:0 16進数:0x3e800000\n",
      "10進数:0 16進数:0x3dcccccd\n"
     ]
    }
   ],
   "source": [
    "import struct\n",
    "a=0.25\n",
    "print(\"10進数:%d 16進数:%s\" % (a, hex(struct.unpack('>I', struct.pack('>f', a))[0])))\n",
    "a=0.1\n",
    "print(\"10進数:%d 16進数:%s\" % (a, hex(struct.unpack('>I', struct.pack('>f', a))[0])))"
   ]
  },
  {
   "cell_type": "markdown",
   "metadata": {},
   "source": [
    "### H24-2 FE AM01 ###"
   ]
  },
  {
   "cell_type": "code",
   "execution_count": 10,
   "metadata": {
    "scrolled": true
   },
   "outputs": [
    {
     "name": "stdout",
     "output_type": "stream",
     "text": [
      "0b11110100\n",
      "0b11110100 ２ビット算術右シフト後\n",
      "f:  0b00001011\n",
      "g:      0b1100 2の補数\n",
      "h:     0b10100\n",
      "h+g:  0b100000\n"
     ]
    }
   ],
   "source": [
    "a=0b11010000\n",
    "b=a & 0b10000000\n",
    "c=a & 0b01111111\n",
    "d=c>>2\n",
    "e=b | b>>1 | b>>2 | d\n",
    "print(bin(e))\n",
    "f=str(bin(e))\n",
    "print(f, \"２ビット算術右シフト後\")\n",
    "f='0b'+f[2:].replace('0', '@')\n",
    "f=f.replace('1', '0')\n",
    "f=f.replace('@', '1')\n",
    "print(\"f:  %010s\" % f)\n",
    "g=int(f,2)+1\n",
    "print(\"g:  %010s\" % bin(g), \"2の補数\")\n",
    "h=0b00010100\n",
    "print(\"h:  %010s\" % bin(h))\n",
    "print(\"h+g:  %s\" % bin(h+g))\n"
   ]
  },
  {
   "cell_type": "markdown",
   "metadata": {},
   "source": [
    "### H29-2 FE AM01 ###"
   ]
  },
  {
   "cell_type": "code",
   "execution_count": 12,
   "metadata": {},
   "outputs": [
    {
     "name": "stdout",
     "output_type": "stream",
     "text": [
      "元の値:11\n",
      "ア:110\n",
      "イ:220\n",
      "ウ:132\n",
      "エ:198\n"
     ]
    }
   ],
   "source": [
    "x=0b00001011\n",
    "print(\"元の値:%d\" % x)\n",
    "print(\"ア:%d\" % (((x << 2) + x) << 1))\n",
    "print(\"イ:%d\" % (((x << 2) + x) << 2))\n",
    "print(\"ウ:%d\" % ((x << 3) + (x << 2)))\n",
    "print(\"エ:%d\" % (((x << 3) + x) << 1))"
   ]
  },
  {
   "cell_type": "markdown",
   "metadata": {},
   "source": [
    "## 記数法 ##"
   ]
  },
  {
   "cell_type": "code",
   "execution_count": 19,
   "metadata": {
    "scrolled": false
   },
   "outputs": [
    {
     "name": "stdout",
     "output_type": "stream",
     "text": [
      "dec  hex   oct     bin\n",
      "  0  0x0   0o0     0b0\n",
      "  1  0x1   0o1     0b1\n",
      "  2  0x2   0o2    0b10\n",
      "  3  0x3   0o3    0b11\n",
      "  4  0x4   0o4   0b100\n",
      "  5  0x5   0o5   0b101\n",
      "  6  0x6   0o6   0b110\n",
      "  7  0x7   0o7   0b111\n",
      "  8  0x8  0o10  0b1000\n",
      "  9  0x9  0o11  0b1001\n",
      " 10  0xa  0o12  0b1010\n",
      " 11  0xb  0o13  0b1011\n",
      " 12  0xc  0o14  0b1100\n",
      " 13  0xd  0o15  0b1101\n",
      " 14  0xe  0o16  0b1110\n",
      " 15  0xf  0o17  0b1111\n"
     ]
    }
   ],
   "source": [
    "print(\"dec  hex   oct     bin\")\n",
    "for i in range(0,16):\n",
    "    print(\"%3d  %3s  %4s  %6s\" % (i, hex(i), oct(i), bin(i)))"
   ]
  },
  {
   "cell_type": "markdown",
   "metadata": {},
   "source": [
    "## H31-1 FE AM02 ##"
   ]
  },
  {
   "cell_type": "code",
   "execution_count": 13,
   "metadata": {},
   "outputs": [
    {
     "name": "stdout",
     "output_type": "stream",
     "text": [
      "original 11111111\n",
      "ア       00001111\n",
      "イ       11111111\n",
      "ウ       01111111\n",
      "エ       00000000\n"
     ]
    }
   ],
   "source": [
    "a=0b11111111\n",
    "b=0x0f\n",
    "c=0x7f\n",
    "d=0xff\n",
    "print(\"original \"+format((a), '08b'))\n",
    "print(\"ア       \"+format((a & b), '08b'))\n",
    "print(\"イ       \"+format((a | b), '08b'))\n",
    "print(\"ウ       \"+format((a & c), '08b'))\n",
    "print(\"エ       \"+format((a ^ d), '08b'))"
   ]
  },
  {
   "cell_type": "markdown",
   "metadata": {},
   "source": [
    "## ASCII ##"
   ]
  },
  {
   "cell_type": "code",
   "execution_count": 21,
   "metadata": {
    "scrolled": true
   },
   "outputs": [
    {
     "name": "stdout",
     "output_type": "stream",
     "text": [
      "A: 0b1000001 : 0x41 : 65\n",
      "a: 0b1100001 : 0x61 : 97\n"
     ]
    }
   ],
   "source": [
    "print('A: 0b'+format(ord('A'), '07b')+\" : 0x\"+format(ord('A'), '02x')+\" : \"+str(ord('A')))\n",
    "print('a: 0b'+format(ord('a'), '07b')+\" : 0x\"+format(ord('a'), '02x')+\" : \"+str(ord('a')))"
   ]
  },
  {
   "cell_type": "markdown",
   "metadata": {},
   "source": [
    "## H31-1 FE AM01 ### ダメ"
   ]
  },
  {
   "cell_type": "code",
   "execution_count": 13,
   "metadata": {},
   "outputs": [
    {
     "name": "stdout",
     "output_type": "stream",
     "text": [
      "0\n"
     ]
    }
   ],
   "source": [
    "a=7\n",
    "print(a>>5)"
   ]
  },
  {
   "cell_type": "code",
   "execution_count": null,
   "metadata": {},
   "outputs": [],
   "source": []
  }
 ],
 "metadata": {
  "kernelspec": {
   "display_name": "Python 3",
   "language": "python",
   "name": "python3"
  },
  "language_info": {
   "codemirror_mode": {
    "name": "ipython",
    "version": 3
   },
   "file_extension": ".py",
   "mimetype": "text/x-python",
   "name": "python",
   "nbconvert_exporter": "python",
   "pygments_lexer": "ipython3",
   "version": "3.7.6"
  }
 },
 "nbformat": 4,
 "nbformat_minor": 4
}
