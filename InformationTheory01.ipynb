{
 "cells": [
  {
   "cell_type": "markdown",
   "metadata": {},
   "source": [
    "## 選択情報量 ##"
   ]
  },
  {
   "cell_type": "code",
   "execution_count": 2,
   "metadata": {},
   "outputs": [
    {
     "name": "stdout",
     "output_type": "stream",
     "text": [
      "4.0\n"
     ]
    }
   ],
   "source": [
    "import math\n",
    "import sys\n",
    "\n",
    "# weather\n",
    "print(-math.log2(1/16))"
   ]
  },
  {
   "cell_type": "code",
   "execution_count": 5,
   "metadata": {},
   "outputs": [
    {
     "name": "stdout",
     "output_type": "stream",
     "text": [
      "2.220446049250313e-16\n",
      "まれ： 52.0\n",
      "頻繁： 3.2034265038149186e-16\n"
     ]
    }
   ],
   "source": [
    "# 非常にまれな事象の選択情報量と頻繁に起こる事象の選択情報量\n",
    "x=sys.float_info.epsilon\n",
    "print(x)\n",
    "print(\"まれ：\", -math.log2(x))\n",
    "print(\"頻繁：\", -math.log2(1.0-x))"
   ]
  },
  {
   "cell_type": "code",
   "execution_count": 2,
   "metadata": {},
   "outputs": [
    {
     "name": "stdout",
     "output_type": "stream",
     "text": [
      "2.584962500721156\n"
     ]
    }
   ],
   "source": [
    "# dice\n",
    "print(-math.log2(1/6))"
   ]
  },
  {
   "cell_type": "code",
   "execution_count": 4,
   "metadata": {},
   "outputs": [
    {
     "name": "stdout",
     "output_type": "stream",
     "text": [
      "-0.0\n"
     ]
    }
   ],
   "source": [
    "# school credit\n",
    "print(-math.log2(1/1))"
   ]
  },
  {
   "cell_type": "markdown",
   "metadata": {},
   "source": [
    "## 平均情報量（エントロピー） ##"
   ]
  },
  {
   "cell_type": "code",
   "execution_count": 5,
   "metadata": {},
   "outputs": [
    {
     "name": "stdout",
     "output_type": "stream",
     "text": [
      "0.3372900666170139\n"
     ]
    }
   ],
   "source": [
    "import math\n",
    "# weather\n",
    "x0=1/16\n",
    "x1=15/16\n",
    "print(-x0*math.log2(x0)-x1*math.log2(x1))"
   ]
  },
  {
   "cell_type": "code",
   "execution_count": 8,
   "metadata": {},
   "outputs": [
    {
     "name": "stdout",
     "output_type": "stream",
     "text": [
      "2.584962500721156\n"
     ]
    }
   ],
   "source": [
    "# dice\n",
    "x=1/6\n",
    "sum=0\n",
    "for i in range(1,7):\n",
    "    sum+=-x*math.log2(x)\n",
    "print(sum)"
   ]
  },
  {
   "cell_type": "code",
   "execution_count": 15,
   "metadata": {},
   "outputs": [
    {
     "name": "stdout",
     "output_type": "stream",
     "text": [
      "epsilon=2.220446e-16\n",
      "1.186666210648312e-14\n"
     ]
    }
   ],
   "source": [
    "# school credit\n",
    "import sys\n",
    "x=sys.float_info.epsilon\n",
    "print(\"epsilon=%e\" % x)\n",
    "print(-(1.0-x)*math.log2(1.0-x)-x*math.log2(x))"
   ]
  },
  {
   "cell_type": "markdown",
   "metadata": {},
   "source": [
    "## lim(x->0) x*log2(x) ##"
   ]
  },
  {
   "cell_type": "code",
   "execution_count": 1,
   "metadata": {},
   "outputs": [
    {
     "data": {
      "image/png": "[encoded data removed]",
      "text/plain": [
       "<Figure size 432x288 with 1 Axes>"
      ]
     },
     "metadata": {
      "needs_background": "light"
     },
     "output_type": "display_data"
    }
   ],
   "source": [
    "%matplotlib inline\n",
    " \n",
    "import numpy as np\n",
    "import matplotlib.pyplot as plt\n",
    "\n",
    "x=np.arange(1.0, 0.0001, -0.0001)\n",
    "y=x*np.log2(x)\n",
    "\n",
    "plt.title(\"lim_x->+0 xlog2 x\")\n",
    "plt.xlabel(\"X-axis\")\n",
    "plt.ylabel(\"Y-axis\")\n",
    "plt.xlim([0,1.0])\n",
    "plt.ylim([-0.6,0.0])\n",
    "plt.scatter(x,y)\n",
    "plt.show()\n",
    "#plt.savefig(\"img.png\")"
   ]
  },
  {
   "cell_type": "markdown",
   "metadata": {
    "collapsed": true
   },
   "source": [
    "英語のエントロピー"
   ]
  },
  {
   "cell_type": "code",
   "execution_count": 2,
   "metadata": {},
   "outputs": [
    {
     "name": "stdout",
     "output_type": "stream",
     "text": [
      "4.700439718141092\n"
     ]
    }
   ],
   "source": [
    "# アルファベットの各文字が等確率で出現するなら\n",
    "import math\n",
    "x=1/26\n",
    "sum=0\n",
    "for i in range(1,27):\n",
    "    sum+=-x*math.log2(x)\n",
    "print(sum)"
   ]
  },
  {
   "cell_type": "code",
   "execution_count": 6,
   "metadata": {},
   "outputs": [
    {
     "name": "stdout",
     "output_type": "stream",
     "text": [
      "sum_p=1.000000\n",
      "n_alphabets=26\n",
      "4.511717842600225\n"
     ]
    }
   ],
   "source": [
    "# アルファベットの各文字の出現確率に偏りがある場合\n",
    "import math\n",
    "x=(1/52, 1/52, 1/52, 1/52, 1/52, 1/52, 1/52, 1/52, 1/52, 1/52, 1/52, 1/52, 1/52, 3/52, 3/52, 3/52, 3/52, 3/52, 3/52, 3/52, 3/52, 3/52, 3/52, 3/52, 3/52, 3/52)\n",
    "sum_p=0\n",
    "for xi in x:\n",
    "    sum_p+=xi\n",
    "print(\"sum_p=%f\" % sum_p)\n",
    "print(\"n_alphabets=%d\" % len(x))\n",
    "# entropy\n",
    "sum=0\n",
    "for i in range(0,26):\n",
    "    sum+=-x[i]*math.log2(x[i])\n",
    "print(sum)"
   ]
  },
  {
   "cell_type": "markdown",
   "metadata": {},
   "source": [
    "### 等確率時のエントロピー(4.7bit) > 非等確率時のエントロピー(4.5bit)"
   ]
  }
 ],
 "metadata": {
  "kernelspec": {
   "display_name": "Python 3",
   "language": "python",
   "name": "python3"
  },
  "language_info": {
   "codemirror_mode": {
    "name": "ipython",
    "version": 3
   },
   "file_extension": ".py",
   "mimetype": "text/x-python",
   "name": "python",
   "nbconvert_exporter": "python",
   "pygments_lexer": "ipython3",
   "version": "3.7.6"
  }
 },
 "nbformat": 4,
 "nbformat_minor": 2
}
