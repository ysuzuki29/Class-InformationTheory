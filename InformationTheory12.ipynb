{
 "cells": [
  {
   "cell_type": "markdown",
   "metadata": {},
   "source": [
    "12回目"
   ]
  },
  {
   "cell_type": "markdown",
   "metadata": {},
   "source": [
    "### クラフトの不等式"
   ]
  },
  {
   "cell_type": "code",
   "execution_count": 2,
   "metadata": {
    "scrolled": true
   },
   "outputs": [
    {
     "name": "stdout",
     "output_type": "stream",
     "text": [
      "1.0\n"
     ]
    }
   ],
   "source": [
    "# p.15\n",
    "import math\n",
    "leng=[3, 3, 2, 2, 2]\n",
    "sum=0\n",
    "for l in leng:\n",
    "    sum+=math.pow(2,-1*l)\n",
    "print(sum)"
   ]
  },
  {
   "cell_type": "code",
   "execution_count": 3,
   "metadata": {},
   "outputs": [
    {
     "name": "stdout",
     "output_type": "stream",
     "text": [
      "1.0\n"
     ]
    }
   ],
   "source": [
    "# p.16 左\n",
    "leng=[1,1]\n",
    "sum=0\n",
    "for l in leng:\n",
    "    sum+=math.pow(2,-1*l)\n",
    "print(sum)"
   ]
  },
  {
   "cell_type": "code",
   "execution_count": 4,
   "metadata": {},
   "outputs": [
    {
     "name": "stdout",
     "output_type": "stream",
     "text": [
      "1.0\n"
     ]
    }
   ],
   "source": [
    "# p.16 中央\n",
    "leng=[2, 2, 2, 2]\n",
    "sum=0\n",
    "for l in leng:\n",
    "    sum+=math.pow(2,-1*l)\n",
    "print(sum)"
   ]
  },
  {
   "cell_type": "code",
   "execution_count": 5,
   "metadata": {},
   "outputs": [
    {
     "name": "stdout",
     "output_type": "stream",
     "text": [
      "1.0\n"
     ]
    }
   ],
   "source": [
    "# p.16 右\n",
    "leng=[3, 3, 3, 3, 3, 3, 3, 3]\n",
    "sum=0\n",
    "for l in leng:\n",
    "    sum+=math.pow(2,-1*l)\n",
    "print(sum)"
   ]
  },
  {
   "cell_type": "code",
   "execution_count": 6,
   "metadata": {},
   "outputs": [
    {
     "name": "stdout",
     "output_type": "stream",
     "text": [
      "0.875\n"
     ]
    }
   ],
   "source": [
    "# 演習問題２\n",
    "# C2\n",
    "leng=[2, 2, 3, 3, 3]\n",
    "sum=0\n",
    "for l in leng:\n",
    "    sum+=math.pow(2,-1*l)\n",
    "print(sum)"
   ]
  },
  {
   "cell_type": "code",
   "execution_count": 8,
   "metadata": {},
   "outputs": [
    {
     "name": "stdout",
     "output_type": "stream",
     "text": [
      "0.96875\n",
      "0.96875\n"
     ]
    }
   ],
   "source": [
    "# 演習問題２\n",
    "# C3\n",
    "leng=[1, 2, 3, 4, 5]\n",
    "sum=0\n",
    "for l in leng:\n",
    "    sum+=math.pow(2,-1*l)\n",
    "print(sum)\n",
    "\n",
    "import numpy as np\n",
    "nleng=np.array([1, 2, 3, 4, 5])\n",
    "nsum=np.sum(1/np.power(2,nleng))\n",
    "print(nsum)"
   ]
  },
  {
   "cell_type": "markdown",
   "metadata": {},
   "source": [
    "### 図9.2 エントロピー　＜＝　ハフマン符号の平均符号長"
   ]
  },
  {
   "cell_type": "code",
   "execution_count": 17,
   "metadata": {},
   "outputs": [
    {
     "name": "stdout",
     "output_type": "stream",
     "text": [
      "H(x)math = 2.2322628970242686\n",
      "H(x)numpy= 2.2322628970242686\n"
     ]
    }
   ],
   "source": [
    "# 図9.2 エントロピーの計算\n",
    "import math\n",
    "x=[1/3, 1/5, 1/5, 2/15, 2/15]\n",
    "h=0\n",
    "for xx in x:\n",
    "    h+=-xx*math.log2(xx)\n",
    "print(\"H(x)math =\", h)\n",
    "\n",
    "import numpy as np\n",
    "x=np.array([1/3, 1/5, 1/5, 2/15, 2/15])\n",
    "h=np.sum(-1*x*np.log2(x))\n",
    "print(\"H(x)numpy=\", h)"
   ]
  },
  {
   "cell_type": "code",
   "execution_count": 18,
   "metadata": {},
   "outputs": [
    {
     "name": "stdout",
     "output_type": "stream",
     "text": [
      "L(C)= 2.2666666666666666\n"
     ]
    }
   ],
   "source": [
    "# 図9.2　ハフマン符号の平均符号長\n",
    "x=np.array([1/3, 1/5, 1/5, 2/15, 2/15])\n",
    "l=np.array([2, 2, 2, 3, 3])\n",
    "LC=np.sum(x*l)\n",
    "print(\"L(C)=\", LC)"
   ]
  },
  {
   "cell_type": "markdown",
   "metadata": {},
   "source": [
    "### 演習問題１　エントロピー　＜＝　ハフマン符号の平均符号長"
   ]
  },
  {
   "cell_type": "code",
   "execution_count": 19,
   "metadata": {},
   "outputs": [
    {
     "name": "stdout",
     "output_type": "stream",
     "text": [
      "H(x)numpy= 2.471767202058241\n",
      "L(C)= 2.5\n"
     ]
    }
   ],
   "source": [
    "# 演習問題１\n",
    "# エントロピー\n",
    "import numpy as np\n",
    "x=np.array([0.25, 0.25, 0.15, 0.02, 0.2, 0.1, 0.03])\n",
    "h=np.sum(-1*x*np.log2(x))\n",
    "print(\"H(x)numpy=\", h)\n",
    "\n",
    "# ハフマン符号の平均符号長\n",
    "x=np.array([0.25, 0.25, 0.15, 0.02, 0.2, 0.1, 0.03])\n",
    "l=np.array([2, 2, 3, 5, 2, 4, 5])\n",
    "LC=np.sum(x*l)\n",
    "print(\"L(C)=\", LC)"
   ]
  },
  {
   "cell_type": "code",
   "execution_count": null,
   "metadata": {},
   "outputs": [],
   "source": []
  }
 ],
 "metadata": {
  "kernelspec": {
   "display_name": "Python 3",
   "language": "python",
   "name": "python3"
  },
  "language_info": {
   "codemirror_mode": {
    "name": "ipython",
    "version": 3
   },
   "file_extension": ".py",
   "mimetype": "text/x-python",
   "name": "python",
   "nbconvert_exporter": "python",
   "pygments_lexer": "ipython3",
   "version": "3.7.6"
  }
 },
 "nbformat": 4,
 "nbformat_minor": 4
}
