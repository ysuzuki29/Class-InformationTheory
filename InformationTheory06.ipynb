{
 "cells": [
  {
   "cell_type": "markdown",
   "metadata": {},
   "source": [
    "### エントロピー"
   ]
  },
  {
   "cell_type": "code",
   "execution_count": 3,
   "metadata": {},
   "outputs": [
    {
     "data": {
      "text/plain": [
       "2.5146585782665962"
      ]
     },
     "execution_count": 3,
     "metadata": {},
     "output_type": "execute_result"
    }
   ],
   "source": [
    "import math\n",
    "-(0.17*math.log2(0.17)+0.2*math.log2(0.2)+0.33*math.log2(0.33)+0.12*math.log2(0.12)+0.06*math.log2(0.06)+0.08*math.log2(0.08)+0.04*math.log2(0.04))"
   ]
  },
  {
   "cell_type": "markdown",
   "metadata": {},
   "source": [
    "### ハフマンコード ###"
   ]
  },
  {
   "cell_type": "code",
   "execution_count": 4,
   "metadata": {},
   "outputs": [
    {
     "data": {
      "text/plain": [
       "2.5700000000000003"
      ]
     },
     "execution_count": 4,
     "metadata": {},
     "output_type": "execute_result"
    }
   ],
   "source": [
    "0.17*3+0.20*2+0.33*2+0.12*3+0.06*4+0.08*3+0.04*4"
   ]
  },
  {
   "cell_type": "markdown",
   "metadata": {},
   "source": [
    "### 英語のエントロピー"
   ]
  },
  {
   "cell_type": "code",
   "execution_count": 56,
   "metadata": {},
   "outputs": [
    {
     "name": "stdout",
     "output_type": "stream",
     "text": [
      "H(x)math = 4.700439718141092\n",
      "H(x)numpy= 4.700439718141092\n"
     ]
    }
   ],
   "source": [
    "# アルファベットの各文字が等確率で出現するなら\n",
    "# numpy不使用\n",
    "import math\n",
    "x=1/26\n",
    "sum=0\n",
    "for i in range(1,27):\n",
    "    sum+=-x*math.log2(x)\n",
    "print(\"H(x)math =\", sum)\n",
    "\n",
    "# numpy使用\n",
    "import numpy as np\n",
    "x=np.full(26, 1/26)\n",
    "y=np.sum(-x*np.log2(x))\n",
    "print(\"H(x)numpy=\", y)"
   ]
  },
  {
   "cell_type": "markdown",
   "metadata": {},
   "source": [
    "### エントロピーの例１"
   ]
  },
  {
   "cell_type": "code",
   "execution_count": 10,
   "metadata": {},
   "outputs": [
    {
     "data": {
      "text/plain": [
       "1.0"
      ]
     },
     "execution_count": 10,
     "metadata": {},
     "output_type": "execute_result"
    }
   ],
   "source": [
    "import math\n",
    "-(1/2*math.log2(1/2)+1/2*math.log2(1/2))"
   ]
  },
  {
   "cell_type": "markdown",
   "metadata": {},
   "source": [
    "### エントロピーの例２"
   ]
  },
  {
   "cell_type": "code",
   "execution_count": 11,
   "metadata": {},
   "outputs": [
    {
     "name": "stdout",
     "output_type": "stream",
     "text": [
      "2.584962500721156\n"
     ]
    }
   ],
   "source": [
    "import numpy\n",
    "x=np.full(6,1/6)\n",
    "y=np.sum(-x*np.log2(x))\n",
    "print(y)"
   ]
  },
  {
   "cell_type": "markdown",
   "metadata": {},
   "source": [
    "### エントロピーの例２'"
   ]
  },
  {
   "cell_type": "code",
   "execution_count": 15,
   "metadata": {},
   "outputs": [
    {
     "name": "stdout",
     "output_type": "stream",
     "text": [
      "2.251629167387823\n"
     ]
    }
   ],
   "source": [
    "import numpy\n",
    "dice=[1/3, 1/12, 1/12, 1/12, 1/12, 1/3]\n",
    "x=np.array(dice)\n",
    "y=np.sum(-x*np.log2(x))\n",
    "print(y)"
   ]
  },
  {
   "cell_type": "markdown",
   "metadata": {},
   "source": [
    "### エントロピーの例２''"
   ]
  },
  {
   "cell_type": "code",
   "execution_count": 25,
   "metadata": {},
   "outputs": [
    {
     "name": "stdout",
     "output_type": "stream",
     "text": [
      "5.93333105324156e-14\n"
     ]
    }
   ],
   "source": [
    "import sys \n",
    "import numpy\n",
    "epsilon=sys.float_info.epsilon # 非常に小さい値\n",
    "dice=[1-5*epsilon, epsilon, epsilon, epsilon, epsilon, epsilon]\n",
    "x=np.array(dice)\n",
    "y=np.sum(-x*np.log2(x))\n",
    "print(y)"
   ]
  },
  {
   "cell_type": "markdown",
   "metadata": {},
   "source": [
    "### 2元エントロピー関数"
   ]
  },
  {
   "cell_type": "code",
   "execution_count": 41,
   "metadata": {},
   "outputs": [
    {
     "data": {
      "image/png": "[encoded data removed]",
      "text/plain": [
       "<Figure size 432x288 with 1 Axes>"
      ]
     },
     "metadata": {
      "needs_background": "light"
     },
     "output_type": "display_data"
    }
   ],
   "source": [
    "import matplotlib.pyplot as plt\n",
    "import numpy as np\n",
    "epsilon=sys.float_info.epsilon # 非常に小さい値\n",
    "\n",
    "#x=np.linspace(0.01,0.99,98)\n",
    "x=np.linspace(epsilon,1-epsilon,1000)\n",
    "y=np.array(-x*np.log2(x)-(1-x)*np.log2(1-x))\n",
    "plt.plot(x,y)\n",
    "#plt.show()\n",
    "plt.savefig(\"entropy.png\")"
   ]
  },
  {
   "cell_type": "markdown",
   "metadata": {},
   "source": [
    "xはコインの表が出る確率と考える．(1-x)は裏がでる確率． エントロピーが最大になるのはx=(1-x)=0.5の時（公平なコイン）で1bit． いかさまコイン（必ず表がでる）の場合はエントロピーは0bitになる"
   ]
  },
  {
   "cell_type": "markdown",
   "metadata": {},
   "source": [
    "### 演習問題１"
   ]
  },
  {
   "cell_type": "code",
   "execution_count": 29,
   "metadata": {},
   "outputs": [
    {
     "name": "stdout",
     "output_type": "stream",
     "text": [
      "H(x)= 1.0\n",
      "H(y)= 1.5\n"
     ]
    }
   ],
   "source": [
    "import math\n",
    "# H(x)\n",
    "px1=1/8+1/4+1/8\n",
    "px2=1/8+1/4+1/8\n",
    "hx=-(px1*math.log2(px1)+px2*math.log2(px2))\n",
    "print(\"H(x)=\",hx)\n",
    "\n",
    "# H(y)\n",
    "py1=1/8+1/8\n",
    "py2=1/4+1/4\n",
    "py3=1/8+1/8\n",
    "hy=-(py1*math.log2(py1)+py2*math.log2(py2)+py3*math.log2(py3))\n",
    "print(\"H(y)=\",hy)"
   ]
  },
  {
   "cell_type": "code",
   "execution_count": 33,
   "metadata": {},
   "outputs": [
    {
     "name": "stdout",
     "output_type": "stream",
     "text": [
      "H(X,Y)= 2.5\n"
     ]
    }
   ],
   "source": [
    "# H(X,Y)\n",
    "hxy=-(px1*py1*math.log2(px1*py1)+px1*py2*math.log2(px1*py2)+px1*py3*math.log2(px1*py3)+px2*py1*math.log2(px2*py1)+px2*py2*math.log2(px2*py2)+px2*py3*math.log2(px2*py3))\n",
    "print(\"H(X,Y)=\", hxy)"
   ]
  },
  {
   "cell_type": "code",
   "execution_count": 38,
   "metadata": {},
   "outputs": [
    {
     "name": "stdout",
     "output_type": "stream",
     "text": [
      "H(X|Y)= 1.0\n",
      "H(Y|X)= 1.5\n"
     ]
    }
   ],
   "source": [
    "#(X|Y)\n",
    "pcxy11=(1/8)/(1/8+1/8)\n",
    "pcxy21=(1/8)/(1/8+1/8)\n",
    "pcxy12=(1/4)/(1/4+1/4)\n",
    "pcxy22=(1/4)/(1/4+1/4)\n",
    "pcxy13=(1/8)/(1/8+1/8)\n",
    "pcxy23=(1/8)/(1/8+1/8)\n",
    "hcxy=py1*(-pcxy11*math.log2(pcxy11)-pcxy21*math.log2(pcxy21)) + py2*(-pcxy12*math.log2(pcxy12)-pcxy22*math.log2(pcxy22)) + py3*(-pcxy13*math.log2(pcxy13)-pcxy23*math.log2(pcxy23))\n",
    "print(\"H(X|Y)=\", hcxy) \n",
    "\n",
    "#(Y|H)\n",
    "pcyx11=(1/8)/(1/8+1/4+1/8)\n",
    "pcyx21=(1/4)/(1/8+1/4+1/8)\n",
    "pcyx31=(1/8)/(1/8+1/4+1/8)\n",
    "pcyx12=(1/8)/(1/8+1/4+1/8)\n",
    "pcyx22=(1/4)/(1/8+1/4+1/8)\n",
    "pcyx32=(1/8)/(1/8+1/4+1/8)\n",
    "hcyx=px1*(-pcyx11*math.log2(pcyx11)-pcyx21*math.log2(pcyx21)-pcyx31*math.log2(pcyx31)) + px2*(-pcyx12*math.log2(pcyx12)-pcyx22*math.log2(pcyx22)-pcyx32*math.log2(pcyx32))\n",
    "print(\"H(Y|X)=\", hcyx)"
   ]
  },
  {
   "cell_type": "code",
   "execution_count": 39,
   "metadata": {},
   "outputs": [
    {
     "name": "stdout",
     "output_type": "stream",
     "text": [
      "I(X;Y)= 0.0\n"
     ]
    }
   ],
   "source": [
    "# I(X;Y)\n",
    "pxy11=1/8\n",
    "pxy12=1/4\n",
    "pxy13=1/8\n",
    "pxy21=1/8\n",
    "pxy22=1/4\n",
    "pxy23=1/8\n",
    "ixy=pxy11*math.log2(pxy11/(px1*py1)) + pxy21*math.log2(pxy21/(px2*py1))\\\n",
    "+pxy12*math.log2(pxy12/(px1*py2)) + pxy22*math.log2(pxy22/(px2*py2))\\\n",
    "+pxy13*math.log2(pxy13/(px1*py3)) + pxy23*math.log2(pxy23/(px2*py3))\n",
    "print(\"I(X;Y)=\", ixy)"
   ]
  },
  {
   "cell_type": "markdown",
   "metadata": {},
   "source": [
    "### 演習問題４"
   ]
  },
  {
   "cell_type": "code",
   "execution_count": 49,
   "metadata": {},
   "outputs": [
    {
     "name": "stdout",
     "output_type": "stream",
     "text": [
      "D(P||Q)= 0.2414460711655218\n"
     ]
    }
   ],
   "source": [
    "import numpy as np\n",
    "\n",
    "P=np.array([1/4, 1/4, 1/4, 1/4])\n",
    "Q=np.array([1/10, 1/5, 1/5, 1/2])\n",
    "\n",
    "PlgPpQ=P*np.log2(P/Q)\n",
    "D_PQ=np.sum(PlgPpQ)\n",
    "print(\"D(P||Q)=\", D_PQ)"
   ]
  },
  {
   "cell_type": "code",
   "execution_count": 50,
   "metadata": {},
   "outputs": [
    {
     "name": "stdout",
     "output_type": "stream",
     "text": [
      "D(P||Q)= 0.23903595255631888\n"
     ]
    }
   ],
   "source": [
    "P=np.array([1/10, 1/5, 1/5, 1/2])\n",
    "Q=np.array([1/4, 1/4, 1/4, 1/4])\n",
    "\n",
    "PlgPpQ=P*np.log2(P/Q)\n",
    "D_PQ=np.sum(PlgPpQ)\n",
    "print(\"D(P||Q)=\", D_PQ)"
   ]
  },
  {
   "cell_type": "code",
   "execution_count": 51,
   "metadata": {},
   "outputs": [
    {
     "name": "stdout",
     "output_type": "stream",
     "text": [
      "D(P||Q)= 0.2162281254206745\n"
     ]
    }
   ],
   "source": [
    "P=np.array([1/3, 1/6, 3/8, 1/8])\n",
    "Q=np.array([1/3, 1/4, 1/6, 1/4])\n",
    "\n",
    "PlgPpQ=P*np.log2(P/Q)\n",
    "D_PQ=np.sum(PlgPpQ)\n",
    "print(\"D(P||Q)=\", D_PQ)"
   ]
  },
  {
   "cell_type": "markdown",
   "metadata": {},
   "source": [
    "### 演習問題５"
   ]
  },
  {
   "cell_type": "code",
   "execution_count": 52,
   "metadata": {},
   "outputs": [
    {
     "name": "stdout",
     "output_type": "stream",
     "text": [
      "D(P||Q)= 0.25\n",
      "D(Q||P)= 0.25\n"
     ]
    }
   ],
   "source": [
    "P=np.array([1/8, 1/8, 1/4, 1/2])\n",
    "Q=np.array([1/4, 1/4, 1/4, 1/4])\n",
    "\n",
    "PlgPpQ=P*np.log2(P/Q)\n",
    "D_PQ=np.sum(PlgPpQ)\n",
    "print(\"D(P||Q)=\", D_PQ)\n",
    "\n",
    "QlgQpP=Q*np.log2(Q/P)\n",
    "D_QP=np.sum(QlgQpP)\n",
    "print(\"D(Q||P)=\", D_QP)"
   ]
  },
  {
   "cell_type": "code",
   "execution_count": 58,
   "metadata": {},
   "outputs": [
    {
     "name": "stdout",
     "output_type": "stream",
     "text": [
      "D(P||Q)= 0.875\n",
      "D(Q||P)= 0.875\n"
     ]
    }
   ],
   "source": [
    "P=np.array([1/8, 1/8, 1/4, 1/2])\n",
    "Q=np.array([1/2, 1/4, 1/8, 1/8])\n",
    "\n",
    "PlgPpQ=P*np.log2(P/Q)\n",
    "D_PQ=np.sum(PlgPpQ)\n",
    "print(\"D(P||Q)=\", D_PQ)\n",
    "\n",
    "QlgQpP=Q*np.log2(Q/P)\n",
    "D_QP=np.sum(QlgQpP)\n",
    "print(\"D(Q||P)=\", D_QP)"
   ]
  },
  {
   "cell_type": "code",
   "execution_count": 59,
   "metadata": {},
   "outputs": [
    {
     "name": "stdout",
     "output_type": "stream",
     "text": [
      "D(P||Q)= 0.5\n",
      "D(Q||P)= 0.625\n"
     ]
    }
   ],
   "source": [
    "P=np.array([1/8, 1/2, 1/8, 1/4])\n",
    "Q=np.array([1/2, 1/4, 1/8, 1/8])\n",
    "\n",
    "PlgPpQ=P*np.log2(P/Q)\n",
    "D_PQ=np.sum(PlgPpQ)\n",
    "print(\"D(P||Q)=\", D_PQ)\n",
    "\n",
    "QlgQpP=Q*np.log2(Q/P)\n",
    "D_QP=np.sum(QlgQpP)\n",
    "print(\"D(Q||P)=\", D_QP)"
   ]
  },
  {
   "cell_type": "code",
   "execution_count": null,
   "metadata": {},
   "outputs": [],
   "source": []
  }
 ],
 "metadata": {
  "kernelspec": {
   "display_name": "Python 3",
   "language": "python",
   "name": "python3"
  },
  "language_info": {
   "codemirror_mode": {
    "name": "ipython",
    "version": 3
   },
   "file_extension": ".py",
   "mimetype": "text/x-python",
   "name": "python",
   "nbconvert_exporter": "python",
   "pygments_lexer": "ipython3",
   "version": "3.7.6"
  }
 },
 "nbformat": 4,
 "nbformat_minor": 4
}
