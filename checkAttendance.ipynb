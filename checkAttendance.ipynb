{
 "cells": [
  {
   "cell_type": "code",
   "execution_count": 11,
   "metadata": {
    "scrolled": true
   },
   "outputs": [
    {
     "name": "stdout",
     "output_type": "stream",
     "text": [
      "T16JM021\n",
      "T17JM038\n",
      "T17JM048\n",
      "T18JM022\n",
      "T18JM044\n",
      "T18JM046\n",
      "T19JM001\n",
      "T19JM002\n",
      "T19JM003\n",
      "T19JM004\n",
      "T19JM005\n",
      "T19JM006\n",
      "T19JM007\n",
      "T19JM008\n",
      "T19JM009\n",
      "T19JM010\n",
      "T19JM011\n",
      "T19JM012\n",
      "T19JM013\n",
      "T19JM014\n",
      "T19JM015\n",
      "T19JM016\n",
      "T19JM017\n",
      "T19JM018\n",
      "T19JM019\n",
      "T19JM022\n",
      "T19JM023\n",
      "T19JM024\n",
      "T19JM025\n",
      "T19JM026\n",
      "T19JM027\n",
      "T19JM028\n",
      "T19JM029\n",
      "T19JM030\n",
      "T19JM032\n",
      "T19JM033\n",
      "T19JM034\n",
      "T19JM035\n",
      "T19JM036\n",
      "T19JM037\n",
      "T19JM038\n",
      "T19JM039\n",
      "T19JM040\n",
      "T19JM041\n",
      "T19JM042\n",
      "T19JM043\n",
      "T19JM044\n",
      "T19JM045\n",
      "T19JM047\n",
      "T19JM049\n",
      "T19JM050\n",
      "T19JM051\n",
      "T19JM052\n",
      "T19JM053\n",
      "T19JM054\n",
      "T19JM055\n",
      "良弥\n"
     ]
    }
   ],
   "source": [
    "# -*- coding: utf-8 -*-\n",
    "import pandas as pd\n",
    "\n",
    "#chat=pd.read_table(\"2020attendance/0708chat.txt\", index_col=0)\n",
    "#print(chat.sort_values(\"08:53:36\"))\n",
    "\n",
    "with open(\"2020attendance/0708chat.txt\", \"r\", encoding=\"utf-8\") as f:\n",
    "    l = f.readlines()\n",
    "#    print(l)\n",
    "\n",
    "id={}\n",
    "\n",
    "for a in l:\n",
    "    tmp=a.split()\n",
    "    tmptmp=tmp[2][:8].upper()\n",
    "#    print(tmptmp)\n",
    "    if tmptmp in id:\n",
    "        id[tmptmp]+=1\n",
    "    else:\n",
    "        id[tmptmp]=1\n",
    "\n",
    "id2=sorted(id.items())\n",
    "\n",
    "for k in id2:\n",
    "    print(k[0])\n",
    "\n"
   ]
  },
  {
   "cell_type": "code",
   "execution_count": null,
   "metadata": {},
   "outputs": [],
   "source": []
  },
  {
   "cell_type": "code",
   "execution_count": null,
   "metadata": {},
   "outputs": [],
   "source": []
  }
 ],
 "metadata": {
  "kernelspec": {
   "display_name": "Python 3",
   "language": "python",
   "name": "python3"
  },
  "language_info": {
   "codemirror_mode": {
    "name": "ipython",
    "version": 3
   },
   "file_extension": ".py",
   "mimetype": "text/x-python",
   "name": "python",
   "nbconvert_exporter": "python",
   "pygments_lexer": "ipython3",
   "version": "3.7.6"
  }
 },
 "nbformat": 4,
 "nbformat_minor": 4
}
