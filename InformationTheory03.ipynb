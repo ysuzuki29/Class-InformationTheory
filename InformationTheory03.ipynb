{
 "cells": [
  {
   "cell_type": "markdown",
   "metadata": {},
   "source": [
    "## dice entropy ##"
   ]
  },
  {
   "cell_type": "code",
   "execution_count": 8,
   "metadata": {},
   "outputs": [
    {
     "name": "stdout",
     "output_type": "stream",
     "text": [
      "2.0\n"
     ]
    }
   ],
   "source": [
    "# 正四面体\n",
    "import math\n",
    "entropy=0.0\n",
    "for i in range(1,5): # 1, 2, 3, 4\n",
    "    entropy+=-1/4*math.log2(1/4)\n",
    "print(entropy)"
   ]
  },
  {
   "cell_type": "code",
   "execution_count": 9,
   "metadata": {},
   "outputs": [
    {
     "name": "stdout",
     "output_type": "stream",
     "text": [
      "3.0\n"
     ]
    }
   ],
   "source": [
    "# 正八面体\n",
    "import math\n",
    "entropy=0.0\n",
    "for i in range(1,9): # 1, 2, 3, 4, 5, 6, 7, 8\n",
    "    entropy+=-1/8*math.log2(1/8)\n",
    "print(entropy)"
   ]
  },
  {
   "cell_type": "markdown",
   "metadata": {},
   "source": [
    "## ascii code ###"
   ]
  },
  {
   "cell_type": "code",
   "execution_count": 5,
   "metadata": {},
   "outputs": [
    {
     "name": "stdout",
     "output_type": "stream",
     "text": [
      "0 : 0b0110000 : 0x30 : 48\n",
      "1 : 0b0110001 : 0x31 : 49\n",
      "2 : 0b0110010 : 0x32 : 50\n",
      "3 : 0b0110011 : 0x33 : 51\n",
      "4 : 0b0110100 : 0x34 : 52\n",
      "5 : 0b0110101 : 0x35 : 53\n",
      "6 : 0b0110110 : 0x36 : 54\n",
      "7 : 0b0110111 : 0x37 : 55\n",
      "8 : 0b0111000 : 0x38 : 56\n",
      "9 : 0b0111001 : 0x39 : 57\n",
      "a : 0b1100001 : 0x61 : 97\n",
      "b : 0b1100010 : 0x62 : 98\n",
      "c : 0b1100011 : 0x63 : 99\n",
      "d : 0b1100100 : 0x64 : 100\n",
      "e : 0b1100101 : 0x65 : 101\n",
      "f : 0b1100110 : 0x66 : 102\n",
      "g : 0b1100111 : 0x67 : 103\n",
      "h : 0b1101000 : 0x68 : 104\n",
      "i : 0b1101001 : 0x69 : 105\n",
      "j : 0b1101010 : 0x6a : 106\n",
      "k : 0b1101011 : 0x6b : 107\n",
      "l : 0b1101100 : 0x6c : 108\n",
      "m : 0b1101101 : 0x6d : 109\n",
      "n : 0b1101110 : 0x6e : 110\n",
      "o : 0b1101111 : 0x6f : 111\n",
      "p : 0b1110000 : 0x70 : 112\n",
      "q : 0b1110001 : 0x71 : 113\n",
      "r : 0b1110010 : 0x72 : 114\n",
      "s : 0b1110011 : 0x73 : 115\n",
      "t : 0b1110100 : 0x74 : 116\n",
      "u : 0b1110101 : 0x75 : 117\n",
      "v : 0b1110110 : 0x76 : 118\n",
      "w : 0b1110111 : 0x77 : 119\n",
      "x : 0b1111000 : 0x78 : 120\n",
      "y : 0b1111001 : 0x79 : 121\n",
      "z : 0b1111010 : 0x7a : 122\n",
      "A : 0b1000001 : 0x41 : 65\n",
      "B : 0b1000010 : 0x42 : 66\n",
      "C : 0b1000011 : 0x43 : 67\n",
      "D : 0b1000100 : 0x44 : 68\n",
      "E : 0b1000101 : 0x45 : 69\n",
      "F : 0b1000110 : 0x46 : 70\n",
      "G : 0b1000111 : 0x47 : 71\n",
      "H : 0b1001000 : 0x48 : 72\n",
      "I : 0b1001001 : 0x49 : 73\n",
      "J : 0b1001010 : 0x4a : 74\n",
      "K : 0b1001011 : 0x4b : 75\n",
      "L : 0b1001100 : 0x4c : 76\n",
      "M : 0b1001101 : 0x4d : 77\n",
      "N : 0b1001110 : 0x4e : 78\n",
      "O : 0b1001111 : 0x4f : 79\n",
      "P : 0b1010000 : 0x50 : 80\n",
      "Q : 0b1010001 : 0x51 : 81\n",
      "R : 0b1010010 : 0x52 : 82\n",
      "S : 0b1010011 : 0x53 : 83\n",
      "T : 0b1010100 : 0x54 : 84\n",
      "U : 0b1010101 : 0x55 : 85\n",
      "V : 0b1010110 : 0x56 : 86\n",
      "W : 0b1010111 : 0x57 : 87\n",
      "X : 0b1011000 : 0x58 : 88\n",
      "Y : 0b1011001 : 0x59 : 89\n",
      "Z : 0b1011010 : 0x5a : 90\n"
     ]
    }
   ],
   "source": [
    "asciicode=('0', '1', '2', '3', '4', '5', '6', '7', '8', '9',\\\n",
    "           'a', 'b', 'c', 'd', 'e', 'f', 'g', 'h', 'i', 'j', 'k', 'l', 'm', 'n', 'o', 'p', 'q', 'r', 's', 't', 'u', 'v', 'w', 'x', 'y', 'z',\\\n",
    "           'A', 'B', 'C', 'D', 'E', 'F', 'G', 'H', 'I', 'J', 'K', 'L', 'M', 'N', 'O', 'P', 'Q', 'R', 'S', 'T', 'U', 'V', 'W', 'X', 'Y', 'Z')\n",
    "for code in asciicode:\n",
    "    print(code+\" : 0b\"+format(ord(code), '07b')+\" : 0x\"+format(ord(code), '02x')+\" : \"+str(ord(code)))"
   ]
  },
  {
   "cell_type": "code",
   "execution_count": null,
   "metadata": {},
   "outputs": [],
   "source": []
  }
 ],
 "metadata": {
  "kernelspec": {
   "display_name": "Python 3",
   "language": "python",
   "name": "python3"
  },
  "language_info": {
   "codemirror_mode": {
    "name": "ipython",
    "version": 3
   },
   "file_extension": ".py",
   "mimetype": "text/x-python",
   "name": "python",
   "nbconvert_exporter": "python",
   "pygments_lexer": "ipython3",
   "version": "3.7.6"
  }
 },
 "nbformat": 4,
 "nbformat_minor": 4
}
